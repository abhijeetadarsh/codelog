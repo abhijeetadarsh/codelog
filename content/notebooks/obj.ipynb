{
 "cells": [
  {
   "cell_type": "raw",
   "id": "d31cff5c",
   "metadata": {},
   "source": [
    "Title: Obj\n",
    "Date: 2025-09-09 18:24\n",
    "Category: Add Category here\n",
    "Tags: tag1,tag2\n",
    "Slug: obj\n",
    "Author: Abhijeet Adarsh\n",
    "Summary: Obj\n",
    "Last Modified: 2025-09-09 12:56:23"
   ]
  },
  {
   "cell_type": "markdown",
   "id": "2065a086-259e-4360-bcba-23b5452d2124",
   "metadata": {},
   "source": [
    "# Everything in python is object\n",
    "Means that every entity in the language, from fundamental data types like integers, floats, and strings to more complex structures like lists, dictionaries, functions, classes, and even modules, is treated as an object.\n",
    "\n",
    "id() return unique integer identifier\n",
    "\n",
    "Python distinguishes between mutable and immutable objects.\n",
    "\n",
    "Immutable Objects:\n",
    "These objects cannot be changed after they are created. Any operation that appears to modify an immutable object actually creates a new object with the desired changes. Examples of built-in immutable types include:\n",
    "* Integers (int)\n",
    "* Floats (float)\n",
    "* Booleans (bool)\n",
    "* Strings (str)\n",
    "* Tuples (tuple)\n",
    "\n",
    "Mutable Objects:\n",
    "These objects can be changed after they are created. Modifications to a mutable object occur in-place, meaning the object's identity (its memory address) remains the same. Examples of built-in mutable types include:\n",
    "* Lists (list)\n",
    "* Dictionaries (dict)\n",
    "* Sets (set)"
   ]
  },
  {
   "cell_type": "code",
   "execution_count": 10,
   "id": "f37030bd-9135-4e80-af08-5026b0fb3363",
   "metadata": {
    "editable": true,
    "slideshow": {
     "slide_type": ""
    },
    "tags": []
   },
   "outputs": [
    {
     "name": "stdout",
     "output_type": "stream",
     "text": [
      "140706152756424 140706152756744\n"
     ]
    }
   ],
   "source": [
    "a = 10\n",
    "b = 20\n",
    "print(id(a), id(b))"
   ]
  },
  {
   "cell_type": "markdown",
   "id": "382bc083",
   "metadata": {},
   "source": [
    "Now b starts pointing to a's address thus there is no live pointer to the b's old object's memory, which leads to that memory being freed by the garbage collector."
   ]
  },
  {
   "cell_type": "code",
   "execution_count": 11,
   "id": "c261abf6",
   "metadata": {},
   "outputs": [
    {
     "name": "stdout",
     "output_type": "stream",
     "text": [
      "140706152756424 140706152756424\n"
     ]
    }
   ],
   "source": [
    "b = a \n",
    "print(id(a), id(b))"
   ]
  },
  {
   "cell_type": "markdown",
   "id": "6bc4e646",
   "metadata": {},
   "source": [
    "Now a new int object is made and the b varible starts pointing to that one.\n"
   ]
  },
  {
   "cell_type": "code",
   "execution_count": 12,
   "id": "86b667dc",
   "metadata": {},
   "outputs": [
    {
     "name": "stdout",
     "output_type": "stream",
     "text": [
      "140706152756424 140706152757064\n"
     ]
    }
   ],
   "source": [
    "b = 30\n",
    "print(id(a), id(b))"
   ]
  },
  {
   "cell_type": "markdown",
   "id": "b9b3a695",
   "metadata": {},
   "source": [
    "### The assignment operator only binds objects to name it never copies object by value."
   ]
  },
  {
   "cell_type": "code",
   "execution_count": 13,
   "id": "10a61f1b",
   "metadata": {},
   "outputs": [
    {
     "name": "stdout",
     "output_type": "stream",
     "text": [
      "k =  [1, 2, 3, 39]\n"
     ]
    },
    {
     "data": {
      "text/plain": [
       "[1, 2, 3, 39]"
      ]
     },
     "execution_count": 13,
     "metadata": {},
     "output_type": "execute_result"
    }
   ],
   "source": [
    "def modify(k):\n",
    "    k.append(39)\n",
    "    print('k = ', k)\n",
    "\n",
    "m = [1, 2, 3]\n",
    "modify(m)\n",
    "m"
   ]
  },
  {
   "cell_type": "code",
   "execution_count": 14,
   "id": "79cad97a",
   "metadata": {},
   "outputs": [
    {
     "name": "stdout",
     "output_type": "stream",
     "text": [
      "g = [4, 5, 6, 7]\n"
     ]
    },
    {
     "data": {
      "text/plain": [
       "[1, 2, 3, 39]"
      ]
     },
     "execution_count": 14,
     "metadata": {},
     "output_type": "execute_result"
    }
   ],
   "source": [
    "def replace(g):\n",
    "    g = [4, 5, 6, 7]\n",
    "    print('g =', g)\n",
    "\n",
    "replace(m)\n",
    "m"
   ]
  },
  {
   "cell_type": "code",
   "execution_count": 15,
   "id": "0367fcd3",
   "metadata": {},
   "outputs": [
    {
     "name": "stdout",
     "output_type": "stream",
     "text": [
      "g =  [4, 5, 6, 7]\n"
     ]
    },
    {
     "data": {
      "text/plain": [
       "[4, 5, 6, 7]"
      ]
     },
     "execution_count": 15,
     "metadata": {},
     "output_type": "execute_result"
    }
   ],
   "source": [
    "def replace_contents(g):\n",
    "    g[0] = 4\n",
    "    g[1] = 5\n",
    "    g[2] = 6\n",
    "    g[3] = 7\n",
    "    print('g = ', g)\n",
    "\n",
    "replace_contents(m)\n",
    "m"
   ]
  },
  {
   "cell_type": "markdown",
   "id": "03286bec",
   "metadata": {},
   "source": [
    "* Function arguments are transferred using pass-by-object-reference.\n",
    "* References to objects are copied, not the objects themselves.\n",
    "* The return statement uses the same pass-by-object-reference symentic."
   ]
  },
  {
   "cell_type": "code",
   "execution_count": 19,
   "id": "5dcbc849",
   "metadata": {},
   "outputs": [
    {
     "name": "stdout",
     "output_type": "stream",
     "text": [
      "c == m is  True\n",
      "d == e is  True\n"
     ]
    }
   ],
   "source": [
    "def foo(d):\n",
    "    return d \n",
    "\n",
    "c = foo(m)\n",
    "print('c == m is ', c == m)\n",
    "\n",
    "d = 88\n",
    "e = foo(d)\n",
    "print('d == e is ', d == e)"
   ]
  },
  {
   "cell_type": "markdown",
   "id": "25b59089",
   "metadata": {},
   "source": [
    "For small integers, Python optimizes memory by reusing objects — so f and g are actually the same object.\n",
    "\n",
    "Python does not intern large integers (typically > 256), so x and y may have different memory addresses even though their values are equal.\n",
    "\n",
    "Similarly for short string it inter but does not for longer string."
   ]
  },
  {
   "cell_type": "code",
   "execution_count": 22,
   "id": "3f340f43",
   "metadata": {},
   "outputs": [
    {
     "name": "stdout",
     "output_type": "stream",
     "text": [
      "True\n",
      "140706152756424 140706152756424\n",
      "True\n"
     ]
    }
   ],
   "source": [
    "f = 10\n",
    "g = 10\n",
    "print(f == g)\n",
    "print(id(f), id(g))\n",
    "print(f is g)"
   ]
  },
  {
   "cell_type": "markdown",
   "id": "faeb1384",
   "metadata": {},
   "source": [
    "| Operator | What it checks | Result |\n",
    "|----------|----------------|----------------|\n",
    "| `==`     | Value equality | `True` if contents match |\n",
    "| `is`     | Object identity | `True` if same memory address |"
   ]
  },
  {
   "cell_type": "code",
   "execution_count": 21,
   "id": "4230e46a",
   "metadata": {},
   "outputs": [
    {
     "name": "stdout",
     "output_type": "stream",
     "text": [
      "True\n",
      "False\n"
     ]
    }
   ],
   "source": [
    "x = 10000\n",
    "y = 10000\n",
    "print(x == y)\n",
    "print(x is y)"
   ]
  },
  {
   "cell_type": "markdown",
   "id": "c26cabde",
   "metadata": {},
   "source": [
    "Even modules"
   ]
  },
  {
   "cell_type": "code",
   "execution_count": 7,
   "id": "a031feb6",
   "metadata": {},
   "outputs": [
    {
     "name": "stdout",
     "output_type": "stream",
     "text": [
      "<class 'module'>\n",
      "['__breakpointhook__', '__displayhook__', '__doc__', '__excepthook__', '__interactivehook__', '__loader__', '__name__', '__package__', '__spec__', '__stderr__', '__stdin__', '__stdout__', '__unraisablehook__', '_base_executable', '_baserepl', '_clear_internal_caches', '_clear_type_cache', '_current_exceptions', '_current_frames', '_debugmallocstats', '_enablelegacywindowsfsencoding', '_framework', '_get_cpu_count_config', '_getframe', '_getframemodulename', '_git', '_home', '_is_gil_enabled', '_is_interned', '_setprofileallthreads', '_settraceallthreads', '_stdlib_dir', '_vpath', '_xoptions', 'activate_stack_trampoline', 'addaudithook', 'api_version', 'argv', 'audit', 'base_exec_prefix', 'base_prefix', 'breakpointhook', 'builtin_module_names', 'byteorder', 'call_tracing', 'copyright', 'deactivate_stack_trampoline', 'displayhook', 'dllhandle', 'dont_write_bytecode', 'exc_info', 'excepthook', 'exception', 'exec_prefix', 'executable', 'exit', 'flags', 'float_info', 'float_repr_style', 'get_asyncgen_hooks', 'get_coroutine_origin_tracking_depth', 'get_int_max_str_digits', 'getallocatedblocks', 'getdefaultencoding', 'getfilesystemencodeerrors', 'getfilesystemencoding', 'getprofile', 'getrecursionlimit', 'getrefcount', 'getsizeof', 'getswitchinterval', 'gettrace', 'getunicodeinternedsize', 'getwindowsversion', 'hash_info', 'hexversion', 'implementation', 'int_info', 'intern', 'is_finalizing', 'is_stack_trampoline_active', 'last_exc', 'last_traceback', 'last_type', 'last_value', 'maxsize', 'maxunicode', 'meta_path', 'modules', 'monitoring', 'orig_argv', 'path', 'path_hooks', 'path_importer_cache', 'platform', 'platlibdir', 'prefix', 'ps1', 'ps2', 'ps3', 'pycache_prefix', 'set_asyncgen_hooks', 'set_coroutine_origin_tracking_depth', 'set_int_max_str_digits', 'setprofile', 'setrecursionlimit', 'setswitchinterval', 'settrace', 'stderr', 'stdin', 'stdlib_module_names', 'stdout', 'thread_info', 'unraisablehook', 'version', 'version_info', 'warnoptions', 'winver']\n",
      "<class 'builtin_function_or_method'>\n",
      "Adds a new audit hook callback.\n"
     ]
    }
   ],
   "source": [
    "import sys \n",
    "\n",
    "print(type(sys))\n",
    "\n",
    "print(dir(sys))\n",
    "\n",
    "print(type(sys.addaudithook))\n",
    "\n",
    "print(sys.addaudithook.__doc__)"
   ]
  }
 ],
 "metadata": {
  "kernelspec": {
   "display_name": "lx",
   "language": "python",
   "name": "python3"
  },
  "language_info": {
   "codemirror_mode": {
    "name": "ipython",
    "version": 3
   },
   "file_extension": ".py",
   "mimetype": "text/x-python",
   "name": "python",
   "nbconvert_exporter": "python",
   "pygments_lexer": "ipython3",
   "version": "3.13.5"
  }
 },
 "nbformat": 4,
 "nbformat_minor": 5
}
