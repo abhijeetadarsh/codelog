{
 "cells": [
  {
   "cell_type": "raw",
   "id": "e15f8ecc",
   "metadata": {},
   "source": [
    "Title: Iterables\n",
    "Date: 2025-09-09 18:24\n",
    "Category: Add Category here\n",
    "Tags: tag1,tag2\n",
    "Slug: iterables\n",
    "Author: Abhijeet Adarsh\n",
    "Summary: Iterables\n",
    "Last Modified: 2025-09-09 12:56:27"
   ]
  },
  {
   "cell_type": "markdown",
   "id": "336e121e",
   "metadata": {},
   "source": [
    "Comprehensions in Python offer a concise and efficient way to create new data structures (lists, sets, and dictionaries) from existing iterables. They provide a more readable and often faster alternative to traditional loops for many common data manipulation tasks."
   ]
  },
  {
   "cell_type": "markdown",
   "id": "ae41889d",
   "metadata": {
    "vscode": {
     "languageId": "plaintext"
    }
   },
   "source": [
    "## Types of Comprehensions:\n",
    "* List Comprehensions: Used to create new lists."
   ]
  },
  {
   "cell_type": "code",
   "execution_count": 1,
   "id": "ec208789",
   "metadata": {},
   "outputs": [
    {
     "name": "stdout",
     "output_type": "stream",
     "text": [
      "[0, 1, 4, 9, 16, 25, 36, 49, 64, 81]\n",
      "[0, 2, 4, 6, 8, 10, 12, 14, 16, 18]\n"
     ]
    }
   ],
   "source": [
    "# Syntax: [expression for item in iterable if condition]\n",
    "squares = [x**2 for x in range(10)] # Creates a list of squares from 0 to 9\n",
    "even_numbers = [x for x in range(20) if x % 2 == 0] # Filters even numbers\n",
    "print(squares)\n",
    "print(even_numbers)"
   ]
  },
  {
   "cell_type": "markdown",
   "id": "a9e2750d",
   "metadata": {},
   "source": [
    "* Set Comprehensions: Used to create new sets, automatically handling duplicate removal."
   ]
  },
  {
   "cell_type": "code",
   "execution_count": 2,
   "id": "4de941b1",
   "metadata": {},
   "outputs": [
    {
     "name": "stdout",
     "output_type": "stream",
     "text": [
      "{'h', 'o', 'e', 'd', 'r', 'w', 'l'}\n"
     ]
    }
   ],
   "source": [
    "# Syntax: {expression for item in iterable if condition}\n",
    "unique_letters = {char for char in \"hello world\" if char.isalpha()} # Extracts unique letters\n",
    "print(unique_letters)"
   ]
  },
  {
   "cell_type": "markdown",
   "id": "7663206b",
   "metadata": {},
   "source": [
    "* Dictionary Comprehensions: Used to create new dictionaries."
   ]
  },
  {
   "cell_type": "code",
   "execution_count": 3,
   "id": "c1047cc2",
   "metadata": {},
   "outputs": [
    {
     "name": "stdout",
     "output_type": "stream",
     "text": [
      "{0: 0, 1: 1, 2: 4, 3: 9, 4: 16}\n"
     ]
    }
   ],
   "source": [
    "# Syntax: {key_expression: value_expression for item in iterable if condition}\n",
    "squared_dict = {x: x**2 for x in range(5)} # Creates a dictionary with numbers and their squares\n",
    "print(squared_dict)"
   ]
  },
  {
   "cell_type": "markdown",
   "id": "ef5093fd",
   "metadata": {},
   "source": [
    "## Iteration Protocols\n",
    "\n",
    "Iterable:\\\n",
    "Can be passed to iter( ) to produce an iterator\n",
    "\n",
    "Iterator:\\\n",
    "Can be passed to next ( ) to get the next value in the sequence"
   ]
  },
  {
   "cell_type": "code",
   "execution_count": 4,
   "id": "b049476e",
   "metadata": {},
   "outputs": [
    {
     "name": "stdout",
     "output_type": "stream",
     "text": [
      "spring\n",
      "summer\n",
      "autumn\n"
     ]
    }
   ],
   "source": [
    "iterable = ['spring', 'summer', 'autumn', 'winter']\n",
    "iterator = iter(iterable)\n",
    "\n",
    "print(next(iterator))\n",
    "print(next(iterator))\n",
    "print(next(iterator))"
   ]
  },
  {
   "cell_type": "markdown",
   "id": "3323a841",
   "metadata": {},
   "source": [
    "## Generator\n",
    "\n",
    "In Python, a generator is a special type of function or expression that creates an iterator. Unlike regular functions that return a single value and terminate, generators produce a sequence of values lazily, one at a time, using the yield keyword. This makes them highly memory-efficient, especially when dealing with large datasets or potentially infinite sequences, as they do not store the entire sequence in memory simultaneously. \n",
    "\n",
    "Key characteristics of Python generators:\n",
    "\n",
    "Lazy Evaluation:\\\n",
    "Values are generated on demand, only when needed during iteration, rather than being pre-computed and stored.\n",
    "\n",
    "Memory Efficiency:\\\n",
    "By yielding values one at a time, generators consume significantly less memory compared to creating and storing an entire list or other data structure.\n",
    "\n",
    "State Preservation:\\\n",
    "When a yield statement is encountered, the generator's state is paused, and the yielded value is returned. When the generator is subsequently called (e.g., via next()), it resumes execution from where it left off.\n",
    "\n",
    "Iterator Protocol Implementation:\\\n",
    "Generators automatically implement the iterator protocol, meaning they can be directly used in for loops and other contexts that expect iterators."
   ]
  },
  {
   "cell_type": "markdown",
   "id": "d45a5d7a",
   "metadata": {},
   "source": [
    "Creating Generators:\n",
    "* Generator Functions: Defined like regular functions but use the yield keyword instead of return to produce values. "
   ]
  },
  {
   "cell_type": "code",
   "execution_count": 9,
   "id": "9b015dfd",
   "metadata": {},
   "outputs": [
    {
     "name": "stdout",
     "output_type": "stream",
     "text": [
      "About to yield 1\n",
      "1\n",
      "About to yield 2\n",
      "2\n"
     ]
    }
   ],
   "source": [
    "def my_generator_function():\n",
    "    print('About to yield 1')\n",
    "    yield 1\n",
    "    print('About to yield 2')\n",
    "    yield 2\n",
    "    print('About to yield 3')\n",
    "    yield 3\n",
    "\n",
    "# Generators can be iterated over using a for loop, or their values \n",
    "# can be retrieved one by one using the next() function.\n",
    "gen = my_generator_function()\n",
    "print(next(gen))\n",
    "print(next(gen))"
   ]
  },
  {
   "cell_type": "markdown",
   "id": "b432bcdf",
   "metadata": {},
   "source": [
    "* Generator Expressions: Similar to list comprehensions but use parentheses () instead of square brackets []."
   ]
  },
  {
   "cell_type": "code",
   "execution_count": 8,
   "id": "d59c524f",
   "metadata": {},
   "outputs": [
    {
     "name": "stdout",
     "output_type": "stream",
     "text": [
      "0 1 4 9 16 "
     ]
    }
   ],
   "source": [
    "my_generator_expression = (x * x for x in range(5))\n",
    "\n",
    "for val in my_generator_expression:\n",
    "    print(val, end=' ')"
   ]
  },
  {
   "cell_type": "markdown",
   "id": "a19da1f7",
   "metadata": {},
   "source": [
    "Generator expressions \n",
    "\n",
    "Optional parentheses in function call."
   ]
  },
  {
   "cell_type": "code",
   "execution_count": 12,
   "id": "6f9ab126",
   "metadata": {},
   "outputs": [
    {
     "name": "stdout",
     "output_type": "stream",
     "text": [
      "49995000\n",
      "49995000\n"
     ]
    }
   ],
   "source": [
    "print(sum(x for x in range(10000)))\n",
    "print(sum((x for x in range(10000))))"
   ]
  },
  {
   "cell_type": "markdown",
   "id": "bbd738b5",
   "metadata": {},
   "source": [
    "## from itertools import count, islice\n",
    "* islice lazy slice \n",
    "* count lazy counting till inf"
   ]
  },
  {
   "cell_type": "code",
   "execution_count": null,
   "id": "5fd6b65f",
   "metadata": {},
   "outputs": [
    {
     "name": "stdout",
     "output_type": "stream",
     "text": [
      "<itertools.islice object at 0x0000028725038180>\n",
      "3682913\n"
     ]
    }
   ],
   "source": [
    "from itertools import count, islice\n",
    "import math\n",
    "\n",
    "def is_prime(num):\n",
    "    if num <= 1:\n",
    "        return False  \n",
    "    if num == 2:\n",
    "        return True   \n",
    "    if num % 2 == 0:\n",
    "        return False \n",
    "\n",
    "    for i in range(3, int(math.sqrt(num)) + 1, 2):\n",
    "        if num % i == 0:\n",
    "            return False\n",
    "    return True\n",
    "\n",
    "thousand_primes = islice((x for x in count() if is_prime(x)), 1000)\n",
    "print(thousand_primes)\n",
    "\n",
    "print(sum(thousand_primes))"
   ]
  },
  {
   "cell_type": "markdown",
   "id": "6810290d",
   "metadata": {},
   "source": [
    "# any() and all()\n",
    "* any () Determines if any elements in a series are true\n",
    "* all() Determines if all elements in a series are true\n",
    "* equivalent to 'or' and 'and' but for the iterable series of bool values"
   ]
  },
  {
   "cell_type": "code",
   "execution_count": 17,
   "id": "5ee78d9c",
   "metadata": {},
   "outputs": [
    {
     "name": "stdout",
     "output_type": "stream",
     "text": [
      "False\n",
      "True\n",
      "False\n"
     ]
    }
   ],
   "source": [
    "print(all([False, True]))\n",
    "print(any([False, True]))\n",
    "print(any(is_prime(x) for x in range(1328, 1361)))"
   ]
  },
  {
   "cell_type": "markdown",
   "id": "8edd22af",
   "metadata": {},
   "source": [
    "## Zip\n",
    "Synchronize iterable across two or more iterables"
   ]
  },
  {
   "cell_type": "code",
   "execution_count": 20,
   "id": "8ef661a2",
   "metadata": {},
   "outputs": [
    {
     "name": "stdout",
     "output_type": "stream",
     "text": [
      "[0, 2, 4, 6, 8, 10, 12, 14, 16, 18, 20, 22, 24, 26, 28]\n",
      "[1, 3, 5, 7, 9, 11, 13, 15, 17, 19, 21, 23, 25, 27, 29]\n",
      "(0, 1)\n",
      "(2, 3)\n",
      "(4, 5)\n",
      "(6, 7)\n",
      "(8, 9)\n",
      "(10, 11)\n",
      "(12, 13)\n",
      "(14, 15)\n",
      "(16, 17)\n",
      "(18, 19)\n",
      "(20, 21)\n",
      "(22, 23)\n",
      "(24, 25)\n",
      "(26, 27)\n",
      "(28, 29)\n"
     ]
    }
   ],
   "source": [
    "even = [x for x in range(30) if x % 2 == 0]\n",
    "odds = [x for x in range(30) if x % 2 == 1]\n",
    "print(even, odds, sep='\\n')\n",
    "\n",
    "\n",
    "for item in zip(even, odds):\n",
    "    print(item)"
   ]
  },
  {
   "cell_type": "markdown",
   "id": "e49e6065",
   "metadata": {},
   "source": [
    "# from itertools import chain "
   ]
  },
  {
   "cell_type": "code",
   "execution_count": 22,
   "id": "f8e8aed9",
   "metadata": {},
   "outputs": [
    {
     "name": "stdout",
     "output_type": "stream",
     "text": [
      "<itertools.chain object at 0x0000028726436680>\n",
      "[0, 2, 4, 6, 8, 10, 12, 14, 16, 18, 20, 22, 24, 26, 28, 1, 3, 5, 7, 9, 11, 13, 15, 17, 19, 21, 23, 25, 27, 29]\n"
     ]
    }
   ],
   "source": [
    "from itertools import chain \n",
    "\n",
    "a = chain(even, odds)\n",
    "print(a)\n",
    "print(list(a))"
   ]
  },
  {
   "cell_type": "code",
   "execution_count": null,
   "id": "9ee59477",
   "metadata": {},
   "outputs": [],
   "source": []
  }
 ],
 "metadata": {
  "kernelspec": {
   "display_name": "lx",
   "language": "python",
   "name": "python3"
  },
  "language_info": {
   "codemirror_mode": {
    "name": "ipython",
    "version": 3
   },
   "file_extension": ".py",
   "mimetype": "text/x-python",
   "name": "python",
   "nbconvert_exporter": "python",
   "pygments_lexer": "ipython3",
   "version": "3.13.5"
  }
 },
 "nbformat": 4,
 "nbformat_minor": 5
}
