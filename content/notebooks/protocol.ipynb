{
 "cells": [
  {
   "cell_type": "raw",
   "id": "c297b7ba",
   "metadata": {},
   "source": [
    "Title: Protocol\n",
    "Date: 2025-09-09 18:24\n",
    "Category: Add Category here\n",
    "Tags: tag1,tag2\n",
    "Slug: protocol\n",
    "Author: Abhijeet Adarsh\n",
    "Summary: Protocol\n",
    "Last Modified: 2025-09-09 12:56:22"
   ]
  },
  {
   "cell_type": "markdown",
   "id": "bb310c43",
   "metadata": {
    "vscode": {
     "languageId": "plaintext"
    }
   },
   "source": [
    "# Protocol & ABC\n",
    "### Basically works like Interface \n",
    "A set of operations that a type must support to implement the protocol.\\\n",
    "Do not need to be defined as interfaces or base classes.\\\n",
    "Types only need to provide functioning implementations."
   ]
  },
  {
   "cell_type": "markdown",
   "id": "5155350f",
   "metadata": {},
   "source": [
    "| Protocol           | Implementing collections                      |\n",
    "| :----------------- | :-------------------------------------------- |\n",
    "| Container          | str, list, dict, range, tuple, set, bytes     |\n",
    "| Sized              | str, list, dict, range, tuple, set, bytes     |\n",
    "| Iterable           | str, list, dict, range, tuple, set, bytes     |\n",
    "| Sequence           | str, list, range, tuple, bytes                |\n",
    "| Mutable Sequence   | list                                          |\n",
    "| Mutable Set        | set                                           |\n",
    "| Mutable Mapping    | dict                                          |"
   ]
  },
  {
   "cell_type": "code",
   "execution_count": 2,
   "id": "e57c5fcb",
   "metadata": {},
   "outputs": [
    {
     "data": {
      "text/plain": [
       "'\\nAbstract Base Classes (ABCs)\\nDefinition:\\nABCs are classes that cannot be instantiated directly and are designed to be inherited from. They define a common interface that concrete subclasses must implement.\\nEnforcement:\\nABCs enforce method implementation at runtime. If a concrete class inherits from an ABC but does not implement all abstract methods, a TypeError will be raised upon instantiation.\\nMechanism:\\nABCs utilize nominal subtyping, meaning a class is considered a subtype of an ABC if it explicitly inherits from it. They leverage metaclasses (specifically ABCMeta) to manage abstract methods and enforce implementation.\\nUse Cases:\\nIdeal for creating explicit class hierarchies where strong inheritance relationships and runtime enforcement of interfaces are desired.\\nProtocols\\nDefinition:\\nProtocols define an interface based on structural typing (also known as duck typing). A class is considered to conform to a protocol if it provides all the methods and attributes defined in the protocol, regardless of explicit inheritance.\\nEnforcement:\\nProtocols are primarily used for static type checking with tools like MyPy. They do not enforce method implementation at runtime in the same way ABCs do. Type checkers will flag errors if a class used where a protocol is expected does not meet the protocol\\'s structural requirements.\\nMechanism:\\nProtocols rely on the typing.Protocol class. They leverage the concept of structural subtyping, where the \"shape\" of an object (its methods and attributes) determines its compatibility with a protocol.\\nUse Cases:\\nExcellent for defining implicit interfaces, especially when dealing with third-party libraries or when you want to define a contract without forcing specific inheritance relationships. They promote loose coupling and flexibility.\\nKey Differences and When to Choose Which:\\nInheritance vs. Structural Typing:\\nABCs enforce nominal subtyping through explicit inheritance, while Protocols use structural subtyping, where adherence is based on method/attribute presence.\\nRuntime vs. Static Enforcement:\\nABCs enforce contracts at runtime upon instantiation, whereas Protocols are primarily for static type checking.\\nFlexibility:\\nProtocols offer more flexibility as they do not require explicit inheritance, allowing for more decoupled code. ABCs are more rigid but provide stronger guarantees at runtime.\\nIn essence, choose ABCs when you need to establish clear, enforced inheritance hierarchies, and choose Protocols when you want to define flexible, structural interfaces primarily for static type checking purposes.\\n'"
      ]
     },
     "execution_count": 2,
     "metadata": {},
     "output_type": "execute_result"
    }
   ],
   "source": [
    "'''\n",
    "Abstract Base Classes (ABCs)\n",
    "Definition:\n",
    "ABCs are classes that cannot be instantiated directly and are designed to be inherited from. They define a common interface that concrete subclasses must implement.\n",
    "Enforcement:\n",
    "ABCs enforce method implementation at runtime. If a concrete class inherits from an ABC but does not implement all abstract methods, a TypeError will be raised upon instantiation.\n",
    "Mechanism:\n",
    "ABCs utilize nominal subtyping, meaning a class is considered a subtype of an ABC if it explicitly inherits from it. They leverage metaclasses (specifically ABCMeta) to manage abstract methods and enforce implementation.\n",
    "Use Cases:\n",
    "Ideal for creating explicit class hierarchies where strong inheritance relationships and runtime enforcement of interfaces are desired.\n",
    "Protocols\n",
    "Definition:\n",
    "Protocols define an interface based on structural typing (also known as duck typing). A class is considered to conform to a protocol if it provides all the methods and attributes defined in the protocol, regardless of explicit inheritance.\n",
    "Enforcement:\n",
    "Protocols are primarily used for static type checking with tools like MyPy. They do not enforce method implementation at runtime in the same way ABCs do. Type checkers will flag errors if a class used where a protocol is expected does not meet the protocol's structural requirements.\n",
    "Mechanism:\n",
    "Protocols rely on the typing.Protocol class. They leverage the concept of structural subtyping, where the \"shape\" of an object (its methods and attributes) determines its compatibility with a protocol.\n",
    "Use Cases:\n",
    "Excellent for defining implicit interfaces, especially when dealing with third-party libraries or when you want to define a contract without forcing specific inheritance relationships. They promote loose coupling and flexibility.\n",
    "Key Differences and When to Choose Which:\n",
    "Inheritance vs. Structural Typing:\n",
    "ABCs enforce nominal subtyping through explicit inheritance, while Protocols use structural subtyping, where adherence is based on method/attribute presence.\n",
    "Runtime vs. Static Enforcement:\n",
    "ABCs enforce contracts at runtime upon instantiation, whereas Protocols are primarily for static type checking.\n",
    "Flexibility:\n",
    "Protocols offer more flexibility as they do not require explicit inheritance, allowing for more decoupled code. ABCs are more rigid but provide stronger guarantees at runtime.\n",
    "In essence, choose ABCs when you need to establish clear, enforced inheritance hierarchies, and choose Protocols when you want to define flexible, structural interfaces primarily for static type checking purposes.\n",
    "'''"
   ]
  }
 ],
 "metadata": {
  "kernelspec": {
   "display_name": "lx",
   "language": "python",
   "name": "python3"
  },
  "language_info": {
   "codemirror_mode": {
    "name": "ipython",
    "version": 3
   },
   "file_extension": ".py",
   "mimetype": "text/x-python",
   "name": "python",
   "nbconvert_exporter": "python",
   "pygments_lexer": "ipython3",
   "version": "3.13.5"
  }
 },
 "nbformat": 4,
 "nbformat_minor": 5
}
