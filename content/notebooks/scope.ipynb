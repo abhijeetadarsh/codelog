{
 "cells": [
  {
   "cell_type": "raw",
   "id": "26abfb40",
   "metadata": {},
   "source": [
    "Title: Scope\n",
    "Date: 2025-09-09 18:24\n",
    "Category: Add Category here\n",
    "Tags: tag1,tag2\n",
    "Slug: scope\n",
    "Author: Abhijeet Adarsh\n",
    "Summary: Scope\n",
    "Last Modified: 2025-09-09 12:56:17"
   ]
  },
  {
   "cell_type": "markdown",
   "id": "258f87c1",
   "metadata": {},
   "source": [
    "# Types & Namespaces & Scopes in python"
   ]
  },
  {
   "cell_type": "markdown",
   "id": "5589cf23",
   "metadata": {},
   "source": [
    "## Types\n",
    "Type declarations are unnecessary in Python.\\\n",
    "Variables are essentially just untyped name binding to the objects.\\\n",
    "Names can be rebound as necessary to objects of any type.\\\n",
    "Name resolution to objects is managed by scopes and scoping rules."
   ]
  },
  {
   "cell_type": "code",
   "execution_count": 1,
   "id": "d9183c67",
   "metadata": {},
   "outputs": [
    {
     "name": "stdout",
     "output_type": "stream",
     "text": [
      "1\n",
      "string\n"
     ]
    }
   ],
   "source": [
    "a: int = 1\n",
    "print(a)\n",
    "\n",
    "a = 'string' \n",
    "print(a)"
   ]
  },
  {
   "cell_type": "markdown",
   "id": "91d698ca",
   "metadata": {},
   "source": [
    "## Namespaces\n",
    "\n",
    "A namespace is a mapping from names to objects. It is essentially a dictionary where keys are names and values are the corresponding objects. \n",
    "Python creates and manages various namespaces during program execution, such as: \n",
    "* Built-in namespace: Contains built-in functions and exceptions. \n",
    "* Global namespace: Associated with a module, containing names defined at the top level of the module. \n",
    "* Local namespace: Associated with a function or method, containing names defined within that function/method. \n",
    "* Class namespace: Associated with a class, containing names of class attributes and methods. \n",
    "\n",
    "Each namespace is distinct, allowing for the same name to exist in different namespaces without conflict. For example, a local variable x inside a function can coexist with a global variable x in the module's global namespace. "
   ]
  },
  {
   "cell_type": "code",
   "execution_count": 10,
   "id": "660aa60e",
   "metadata": {},
   "outputs": [
    {
     "name": "stdout",
     "output_type": "stream",
     "text": [
      "Inside function: 20\n",
      "No variables match your requested type.\n"
     ]
    }
   ],
   "source": [
    "# see what's stored in global namespace\n",
    "my_global_var = 10\n",
    "another_var = \"hello\"\n",
    "\n",
    "def my_function():\n",
    "    local_func_var = 20\n",
    "    print(f\"Inside function: {local_func_var}\")\n",
    "\n",
    "my_function()\n",
    "\n",
    "%whos \n",
    "\n",
    "# only print the variables name\n",
    "# %who "
   ]
  },
  {
   "cell_type": "markdown",
   "id": "74aa13cb",
   "metadata": {},
   "source": [
    "## Scope: \n",
    "\n",
    "Scope refers to the region of a program where a namespace is directly accessible. It defines the visibility and accessibility rules for names.\\\n",
    "Python follows the LEGB rule (Local, Enclosing, Global, Built-in) to determine the order in which namespaces are searched when a name is referenced:\n",
    "* Local (L): The innermost scope, typically within the current function or method.\n",
    "* Enclosing (E): For nested functions, this refers to the scope of the enclosing function(s). \n",
    "* Global (G): The scope of the current module. \n",
    "* Built-in (B): The outermost scope, containing Python's built-in names. \n",
    "\n",
    "Scope dictates where a name can be looked up, while namespaces are the actual containers holding those name-to-object mappings. "
   ]
  },
  {
   "cell_type": "markdown",
   "id": "9f695cfa",
   "metadata": {
    "vscode": {
     "languageId": "plaintext"
    }
   },
   "source": [
    "Module scope name bindings are typically introduced by import statements or function or class definitions.\\\n",
    "It's possible to use other objects at module scope and this is typically used for constants, although it can be used for variables."
   ]
  },
  {
   "cell_type": "code",
   "execution_count": 12,
   "id": "f6d65db2",
   "metadata": {},
   "outputs": [
    {
     "name": "stdout",
     "output_type": "stream",
     "text": [
      "Initially ['In', 'Out', '_', '__', '___', '__annotations__', '__builtin__', '__builtins__', '__doc__', '__loader__', '__name__', '__package__', '__spec__', '__vsc_ipynb_file__', '_dh', '_i', '_i1', '_i10', '_i11', '_i12', '_i2', '_i3', '_i4', '_i5', '_i6', '_i7', '_i8', '_i9', '_ih', '_ii', '_iii', '_oh', 'a', 'another_var', 'exit', 'fun', 'get_ipython', 'my_function', 'my_global_var', 'num', 'open', 'quit']\n",
      "inside the function ['n']\n",
      "True\n",
      "outside the function ['In', 'Out', '_', '__', '___', '__annotations__', '__builtin__', '__builtins__', '__doc__', '__loader__', '__name__', '__package__', '__spec__', '__vsc_ipynb_file__', '_dh', '_i', '_i1', '_i10', '_i11', '_i12', '_i2', '_i3', '_i4', '_i5', '_i6', '_i7', '_i8', '_i9', '_ih', '_ii', '_iii', '_oh', 'a', 'another_var', 'exit', 'fun', 'get_ipython', 'my_function', 'my_global_var', 'num', 'open', 'quit']\n",
      "False\n"
     ]
    }
   ],
   "source": [
    "print('Initially', dir())\n",
    "\n",
    "num=20\n",
    "\n",
    "def fun():\n",
    "    n=10\n",
    "    print('inside the function', dir())\n",
    "    print('n' in dir())\n",
    "\n",
    "fun()\n",
    "print('outside the function', dir())\n",
    "print('n' in dir())"
   ]
  },
  {
   "cell_type": "markdown",
   "id": "bb3696b6",
   "metadata": {},
   "source": [
    "Key Difference: \n",
    "* Namespaces are the containers that hold names and their corresponding objects. \n",
    "* They are the physical storage for these mappings. \n",
    "* Scope defines the rules and order for searching through these namespaces to find a particular name. \n",
    "* It is about the accessibility of names within different parts of the code. \n",
    "\n",
    "In essence, you can think of namespaces as distinct rooms containing labeled objects, and scope as the rules that determine which rooms you are allowed to look into when searching for a specific label. "
   ]
  },
  {
   "cell_type": "code",
   "execution_count": 19,
   "id": "1d609aef",
   "metadata": {},
   "outputs": [
    {
     "name": "stdout",
     "output_type": "stream",
     "text": [
      "x: 2\n",
      "y: 11\n",
      "z: 101\n"
     ]
    }
   ],
   "source": [
    "# for inner function z is global, y is enclosing, x is local\n",
    "z = 100\n",
    "\n",
    "def outer():\n",
    "    y = 10\n",
    "    def inner():\n",
    "        x = 1\n",
    "        x += 1 # directly change local var\n",
    "\n",
    "        nonlocal y # to change y\n",
    "        y += 1\n",
    "\n",
    "        global z # to change z\n",
    "        z += 1\n",
    "\n",
    "        print(\"x:\", x)\n",
    "        print(\"y:\", y)\n",
    "        print(\"z:\", z)  \n",
    "\n",
    "    inner()\n",
    "\n",
    "outer()\n",
    "\n",
    "print('pig') # this is an example of built-in scope"
   ]
  },
  {
   "cell_type": "markdown",
   "id": "80b07bc2",
   "metadata": {},
   "source": [
    "This search order is known as the LEGB rule: Local -> Enclosing -> Global -> Built-in"
   ]
  },
  {
   "cell_type": "markdown",
   "id": "c14c23bc",
   "metadata": {},
   "source": [
    "## Closure:\n",
    "Function object that remembers values in the enclosing scope even if they are not present in memory\n",
    "\n",
    "Conditions\n",
    "1. Nested function\n",
    "2. Nested function must refer values in enclosing scope\n",
    "3. enclsoing function must return nested function\n",
    "\n",
    "Advantages\n",
    "1. Can avoid global values\n",
    "2. data hiding\n",
    "3. Let us implement decorators"
   ]
  },
  {
   "cell_type": "code",
   "execution_count": 20,
   "id": "0a9d8ccd",
   "metadata": {},
   "outputs": [
    {
     "name": "stdout",
     "output_type": "stream",
     "text": [
      "9\n",
      "12\n"
     ]
    }
   ],
   "source": [
    "def outer2():\n",
    "    x = 3\n",
    "    def inner():\n",
    "        nonlocal x\n",
    "        x += 3\n",
    "        y = 3\n",
    "        print(x + y)\n",
    "    return inner\n",
    "\n",
    "foo = outer2()\n",
    "foo()\n",
    "foo()"
   ]
  },
  {
   "cell_type": "code",
   "execution_count": null,
   "id": "8293b380",
   "metadata": {},
   "outputs": [],
   "source": []
  }
 ],
 "metadata": {
  "kernelspec": {
   "display_name": "lx",
   "language": "python",
   "name": "python3"
  },
  "language_info": {
   "codemirror_mode": {
    "name": "ipython",
    "version": 3
   },
   "file_extension": ".py",
   "mimetype": "text/x-python",
   "name": "python",
   "nbconvert_exporter": "python",
   "pygments_lexer": "ipython3",
   "version": "3.13.5"
  }
 },
 "nbformat": 4,
 "nbformat_minor": 5
}
