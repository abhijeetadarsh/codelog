{
 "cells": [
  {
   "cell_type": "raw",
   "id": "6c98a694",
   "metadata": {
    "vscode": {
     "languageId": "raw"
    }
   },
   "source": [
    "Title: Classes\n",
    "Date: 2025-09-09 18:19\n",
    "Category: Core Python 3\n",
    "Tags: python, classes, oop\n",
    "Slug: classes\n",
    "Author: Abhijeet Adarsh\n",
    "Summary: Classes\n",
    "Last Modified: 2025-09-12 14:43"
   ]
  },
  {
   "cell_type": "markdown",
   "id": "7f9b0f8b",
   "metadata": {},
   "source": [
    "__init__() is an initializer, not a constructor\\\n",
    "In python actual constructor is provided by the python runtime system and one of the thing it does is check for the existance of an instance initializer and call it when present.\n",
    "\n",
    "Python does not support traditional constructor overloading like languages such as Java or C++, where you define multiple __init__ methods with different parameter signatures. In Python, only the last __init__ method defined in a class will be recognized."
   ]
  },
  {
   "cell_type": "code",
   "execution_count": 6,
   "id": "f4b0fa06",
   "metadata": {},
   "outputs": [
    {
     "name": "stdout",
     "output_type": "stream",
     "text": [
      "<class '__main__.Flight'>\n",
      "hi from __init__\n",
      "<__main__.Flight object at 0x0000022B4AE786E0>\n",
      "<class '__main__.Flight'>\n",
      "SN321\n",
      "SN321\n"
     ]
    }
   ],
   "source": [
    "class Flight:\n",
    "\n",
    "    def __init__(self, number='SN321'):\n",
    "        print('hi from __init__')\n",
    "        self._number = number\n",
    "\n",
    "    def number(self):\n",
    "        return self._number\n",
    "\n",
    "print(Flight)\n",
    "\n",
    "f = Flight()\n",
    "\n",
    "print(f)\n",
    "print(type(f))\n",
    "\n",
    "print(f.number())\n",
    "print(Flight.number(f))"
   ]
  },
  {
   "cell_type": "markdown",
   "id": "b7d3259a",
   "metadata": {},
   "source": [
    "## Duck Typing\n",
    "\n",
    "In object-oriented programming, classes mainly aim to encapsulate data and behaviors. Following this idea, you can replace any object with another if the replacement provides the same behaviors. This is true even if the implementation of the underlying behavior is radically different.\n",
    "\n",
    "The code that uses the behaviors will work no matter what object provides it. This principle is the basis of a type system known as duck typing."
   ]
  },
  {
   "cell_type": "code",
   "execution_count": 7,
   "id": "b1da64e7",
   "metadata": {},
   "outputs": [
    {
     "name": "stdout",
     "output_type": "stream",
     "text": [
      "Quack!\n",
      "Hello!\n"
     ]
    }
   ],
   "source": [
    "class Duck:\n",
    "    def sound(self):\n",
    "        print(\"Quack!\")\n",
    "\n",
    "class Person:\n",
    "    def sound(self):\n",
    "        print(\"Hello!\")\n",
    "\n",
    "def make_sound(creature):\n",
    "    creature.sound()\n",
    "\n",
    "# Using duck typing\n",
    "duck_obj = Duck()\n",
    "person_obj = Person()\n",
    "\n",
    "make_sound(duck_obj)  # Output: Quack!\n",
    "make_sound(person_obj) # Output: Hello!"
   ]
  },
  {
   "cell_type": "markdown",
   "id": "a280b738",
   "metadata": {},
   "source": [
    "## Inheritance\n",
    "\n",
    "Thanks to duck-typing, Python uses inheritance less than many other languages."
   ]
  },
  {
   "cell_type": "code",
   "execution_count": null,
   "id": "4d4599f1",
   "metadata": {},
   "outputs": [],
   "source": [
    "class Animal:\n",
    "    def __init__(self, name):\n",
    "        self.name = name\n",
    "\n",
    "    def speak(self):\n",
    "        print(f\"{self.name} makes a sound.\")\n",
    "\n",
    "class Dog(Animal):  # Dog inherits from Animal\n",
    "    def __init__(self, name, breed):\n",
    "        super().__init__(name)  # Call parent's __init__\n",
    "        self.breed = breed\n",
    "\n",
    "    def bark(self):\n",
    "        print(f\"{self.name} barks: Woof!\")\n",
    "\n",
    "my_dog = Dog(\"Buddy\", \"Golden Retriever\")\n",
    "my_dog.speak()  # Inherited from Animal\n",
    "my_dog.bark()   # Specific to Dog"
   ]
  }
 ],
 "metadata": {
  "kernelspec": {
   "display_name": "Python 3 (ipykernel)",
   "language": "python",
   "name": "python3"
  },
  "language_info": {
   "codemirror_mode": {
    "name": "ipython",
    "version": 3
   },
   "file_extension": ".py",
   "mimetype": "text/x-python",
   "name": "python",
   "nbconvert_exporter": "python",
   "pygments_lexer": "ipython3",
   "version": "3.10.10"
  }
 },
 "nbformat": 4,
 "nbformat_minor": 5
}
