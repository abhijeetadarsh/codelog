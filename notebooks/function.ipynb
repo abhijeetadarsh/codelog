{
 "cells": [
  {
   "cell_type": "raw",
   "id": "4603134a",
   "metadata": {},
   "source": [
    "Title: Function\n",
    "Date: 2025-09-09 18:22\n",
    "Category: Add Category here\n",
    "Tags: tag1,tag2\n",
    "Slug: function\n",
    "Author: Abhijeet Adarsh\n",
    "Summary: Function\n",
    "Last Modified: 2025-09-09 12:54:40"
   ]
  },
  {
   "cell_type": "markdown",
   "id": "2b30731d",
   "metadata": {},
   "source": [
    "# Functions\n",
    "\n",
    "Default argument values\n",
    "\n",
    "All keyword arguments must be specified after the positional arguments"
   ]
  },
  {
   "cell_type": "code",
   "execution_count": 5,
   "id": "ef12a0f7",
   "metadata": {},
   "outputs": [
    {
     "name": "stdout",
     "output_type": "stream",
     "text": [
      "---------\n",
      "Hi there!\n",
      "---------\n",
      "#########\n",
      "Hi there!\n",
      "#########\n",
      "*********\n",
      "Hi there!\n",
      "*********\n",
      "$$$$$$$$$\n",
      "Hi there!\n",
      "$$$$$$$$$\n"
     ]
    }
   ],
   "source": [
    "def banner(message, border='-'):\n",
    "    line = border * len(message)\n",
    "    print(line, message, line, sep = '\\n')\n",
    "\n",
    "banner('Hi there!')\n",
    "banner('Hi there!', '#') # this is not self documenting\n",
    "banner('Hi there!', border='*') # this is good practice\n",
    "#       ^ positional   ^ keyword  # Argument\n",
    "banner(border='$', message='Hi there!')"
   ]
  },
  {
   "cell_type": "markdown",
   "id": "3c8dbea5",
   "metadata": {},
   "source": [
    "### When are default values evaluated?"
   ]
  },
  {
   "cell_type": "code",
   "execution_count": 12,
   "id": "8fe256a0",
   "metadata": {},
   "outputs": [
    {
     "name": "stdout",
     "output_type": "stream",
     "text": [
      "Fri Sep  5 12:45:19 2025\n"
     ]
    }
   ],
   "source": [
    "import time \n",
    "\n",
    "def show_default(arg=time.ctime()):\n",
    "    print(arg)\n",
    "\n",
    "print(time.ctime())"
   ]
  },
  {
   "cell_type": "markdown",
   "id": "acd7f65c",
   "metadata": {},
   "source": [
    "* Remember that def is a statement executed at runtime.\n",
    "* Default arguments are evaluated when def is executed.\n",
    "* Immutable default values don't cause problems.\n",
    "* Mutable default values can cause confusing effects."
   ]
  },
  {
   "cell_type": "code",
   "execution_count": 15,
   "id": "4fa8c41b",
   "metadata": {},
   "outputs": [
    {
     "name": "stdout",
     "output_type": "stream",
     "text": [
      "Fri Sep  5 12:45:19 2025\n",
      "Fri Sep  5 12:47:00 2025\n",
      "Fri Sep  5 12:45:19 2025\n"
     ]
    }
   ],
   "source": [
    "show_default()\n",
    "print(time.ctime())\n",
    "show_default()"
   ]
  },
  {
   "cell_type": "markdown",
   "id": "da3e7556",
   "metadata": {},
   "source": [
    "Another example below.\n",
    "\n",
    "Solution: Always use immutable objects for default values."
   ]
  },
  {
   "cell_type": "code",
   "execution_count": 16,
   "id": "95ff2862",
   "metadata": {},
   "outputs": [
    {
     "name": "stdout",
     "output_type": "stream",
     "text": [
      "['banana', 'toast', 'spam']\n",
      "['spam']\n",
      "['spam', 'spam']\n",
      "['spam', 'spam', 'spam']\n"
     ]
    }
   ],
   "source": [
    "def add_spam(menu=[]):\n",
    "    menu.append('spam')\n",
    "    return menu \n",
    "\n",
    "breakfast = ['banana', 'toast']\n",
    "print(add_spam(breakfast))\n",
    "\n",
    "print(add_spam())\n",
    "print(add_spam())\n",
    "print(add_spam())"
   ]
  }
 ],
 "metadata": {
  "kernelspec": {
   "display_name": "lx",
   "language": "python",
   "name": "python3"
  },
  "language_info": {
   "codemirror_mode": {
    "name": "ipython",
    "version": 3
   },
   "file_extension": ".py",
   "mimetype": "text/x-python",
   "name": "python",
   "nbconvert_exporter": "python",
   "pygments_lexer": "ipython3",
   "version": "3.13.5"
  }
 },
 "nbformat": 4,
 "nbformat_minor": 5
}
