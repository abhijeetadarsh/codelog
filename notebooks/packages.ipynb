{
 "cells": [
  {
   "cell_type": "raw",
   "id": "45d630ca",
   "metadata": {
    "vscode": {
     "languageId": "raw"
    }
   },
   "source": [
    "Title: Packages\n",
    "Date: 2025-09-10 12:25\n",
    "Category: Beyond the basic\n",
    "Tags: python, modules, packages\n",
    "Slug: packages\n",
    "Author: Abhijeet Adarsh\n",
    "Summary: Packages\n",
    "Last Modified: 2025-09-10 19:18"
   ]
  },
  {
   "cell_type": "markdown",
   "id": "36db71cd",
   "metadata": {},
   "source": [
    "# Packages \n",
    "\n",
    "These can be used to add structure to the program as it grows beyond simple modules.\n",
    "\n",
    "Python's basic tool for organizing code is the modules.  \n",
    "A module typically corresponds to a single source file.  \n",
    "\n",
    "A package in python is just a special type of module.  \n",
    "The defining characteristic of a package is that is can contain other modules, including other packages.  \n",
    "So packages are the way to define hierarchies of modules in Python.  \n",
    "\n",
    "![](./images/package-diagram.png)"
   ]
  },
  {
   "cell_type": "code",
   "execution_count": 2,
   "id": "f801f53c",
   "metadata": {},
   "outputs": [
    {
     "name": "stdout",
     "output_type": "stream",
     "text": [
      "<class 'module'>\n",
      "<class 'module'>\n"
     ]
    }
   ],
   "source": [
    "import urllib\n",
    "import urllib.request\n",
    "\n",
    "# here urllib is a package\n",
    "# and urllib.request is a module inside that package\n",
    "# but type of both is 'module'\n",
    "\n",
    "print(type(urllib))\n",
    "print(type(urllib.request))"
   ]
  },
  {
   "cell_type": "markdown",
   "id": "57774f8c",
   "metadata": {},
   "source": [
    "\\_\\_path\\_\\_ is a list of filesystem paths where the package's submodules are located.\n",
    "\n",
    "packages are represented by directories in the file system  \n",
    "modules are represented by single file"
   ]
  },
  {
   "cell_type": "code",
   "execution_count": 3,
   "id": "93c33d88",
   "metadata": {},
   "outputs": [
    {
     "name": "stdout",
     "output_type": "stream",
     "text": [
      "True\n",
      "False\n"
     ]
    }
   ],
   "source": [
    "print(hasattr(urllib, '__path__'))  # True, so it's a package\n",
    "print(hasattr(urllib.request, '__path__'))  # False, so it's a module"
   ]
  },
  {
   "cell_type": "markdown",
   "id": "6493c4ab",
   "metadata": {},
   "source": [
    "List of directories where Python looks for modules  \n",
    "When you ask python to import a module it starts with the first dir  \n",
    "if no match is found in the first directory then it checks the next and so no.  \n",
    "If it run out of dir the Import error is raised"
   ]
  },
  {
   "cell_type": "code",
   "execution_count": 4,
   "id": "e8d3ba56",
   "metadata": {},
   "outputs": [
    {
     "name": "stdout",
     "output_type": "stream",
     "text": [
      "['c:\\\\Users\\\\10839703\\\\miniconda3\\\\envs\\\\lx\\\\python313.zip', 'c:\\\\Users\\\\10839703\\\\miniconda3\\\\envs\\\\lx\\\\DLLs', 'c:\\\\Users\\\\10839703\\\\miniconda3\\\\envs\\\\lx\\\\Lib', 'c:\\\\Users\\\\10839703\\\\miniconda3\\\\envs\\\\lx', '', 'c:\\\\Users\\\\10839703\\\\miniconda3\\\\envs\\\\lx\\\\Lib\\\\site-packages', 'c:\\\\Users\\\\10839703\\\\miniconda3\\\\envs\\\\lx\\\\Lib\\\\site-packages\\\\win32', 'c:\\\\Users\\\\10839703\\\\miniconda3\\\\envs\\\\lx\\\\Lib\\\\site-packages\\\\win32\\\\lib', 'c:\\\\Users\\\\10839703\\\\miniconda3\\\\envs\\\\lx\\\\Lib\\\\site-packages\\\\Pythonwin']\n"
     ]
    }
   ],
   "source": [
    "import sys\n",
    "\n",
    "print(sys.path)"
   ]
  },
  {
   "cell_type": "markdown",
   "id": "5fd5a1f2",
   "metadata": {},
   "source": [
    "There is two way to add your desired directory to the sys.path list  \n",
    "* sys.path.append('your/directory/path')  # add directly to the list  \n",
    "* use PYTHONPATH environment variable to add multiple paths separated by os.pathsep usually ':' or ';'  "
   ]
  },
  {
   "cell_type": "code",
   "execution_count": 5,
   "id": "73bf7713",
   "metadata": {},
   "outputs": [],
   "source": [
    "sys.path.append('your/directory/path')"
   ]
  },
  {
   "cell_type": "markdown",
   "id": "82ce8572",
   "metadata": {},
   "source": [
    "## Absoulte imports vs Relative imports\n",
    "\n",
    "Absolute Imports:  \n",
    "* Absolute imports specify the full path to a module or package, starting from the project's root directory or a directory available on the Python path (e.g., standard library, site-packages)."
   ]
  },
  {
   "cell_type": "code",
   "execution_count": null,
   "id": "849e1c1d",
   "metadata": {},
   "outputs": [],
   "source": [
    "from myproject.subpackage.module import function_name"
   ]
  },
  {
   "cell_type": "markdown",
   "id": "bd7bf903",
   "metadata": {},
   "source": [
    "Relative Imports:  \n",
    "* Relative imports specify the path to a module or package relative to the current module's location within a package. They use dot notation to indicate the relative position.\n",
    "\n",
    "\n",
    "1. Can reduce typing in deeply nested package structures\n",
    "2. Promote certain forms of modifiability\n",
    "3. Can aid package renaming and refactoring\n",
    "4. General advice is to avoid them in most cases"
   ]
  },
  {
   "cell_type": "code",
   "execution_count": null,
   "id": "83d461ff",
   "metadata": {},
   "outputs": [],
   "source": [
    "# Example of a relative import from the same package\n",
    "from . import another_module\n",
    "\n",
    "# Example of a relative import from a parent package\n",
    "from .. import parent_module"
   ]
  },
  {
   "cell_type": "markdown",
   "id": "812dfe1d",
   "metadata": {},
   "source": [
    "Purpose of \\_\\_all\\_\\_:  \n",
    "* Controlling Wildcard Imports:  \n",
    "When from module import * is used, Python typically imports all names (variables, functions, classes) from that module that do not begin with an underscore (_). However, if \\_\\_all\\_\\_ is defined in the module, only the names listed in \\_\\_all\\_\\_ will be imported. This provides explicit control over what is exposed.\n",
    "* Defining Public API:  \n",
    "\\_\\_all\\_\\_ serves as a clear declaration of which parts of a module or package are intended for public use and which are considered internal. This helps in maintaining a well-defined API and prevents users from relying on internal implementations that might change in future versions."
   ]
  },
  {
   "cell_type": "markdown",
   "id": "bc9d71d6",
   "metadata": {},
   "source": [
    "## Regular Packages vs Namespace Packages\n",
    "In Python, both regular packages and namespace packages serve to organize code, but they differ fundamentally in their structure and how they are discovered by the import system."
   ]
  },
  {
   "cell_type": "markdown",
   "id": "e5d4d499",
   "metadata": {},
   "source": [
    "| Feature | Regular Package | Namespace Package |\n",
    "| -- | -- | -- |\n",
    "| \\_\\_init\\_\\_.py | Required | Not required (implicit) |\n",
    "| Structure | Self-contained in one directory | Can be split across multiple directories |\n",
    "| Initialization | \\_\\_init\\_\\_.py provides a point for code execution on import | No central initialization file |\n",
    "| Use Case | General-purpose package organization | Large, distributed, or modular projects |\n",
    "| Compatibility | All Python versions | Python 3.3 and later |"
   ]
  },
  {
   "cell_type": "markdown",
   "id": "2d77563d",
   "metadata": {},
   "source": [
    "## Executable directories/zip\n",
    "directories/zip that contain an __main__.py file can be executed as scripts with the python command.\n",
    "\n",
    "Assuming the directory structure is:  \n",
    "\n",
    "```txt\n",
    "    mypackage/\n",
    "    ├── __main__.py\n",
    "    └── module.py\n",
    "```\n",
    "You can run the package as a script using:  \n",
    "```bash\n",
    "python mypackage \n",
    "python mypackage.zip\n",
    "```"
   ]
  },
  {
   "cell_type": "markdown",
   "id": "ac1fec4f",
   "metadata": {},
   "source": [
    "# Modules are singleton\n",
    "Singleton pattern is one of the most widely known pattern in the software development in large part\n",
    "because it's very simple and in some ways provides a superior option to the dreaded global variable.\n",
    "\n",
    "If you find that you need a singleton in python.  \n",
    "One simple and effective way to implement it is a module level arribute.\n",
    "Since modules are only ever executed once."
   ]
  },
  {
   "cell_type": "markdown",
   "id": "b2c8605c",
   "metadata": {},
   "source": [
    "* When a Python module is imported for the first time, the Python interpreter executes its code and creates a module object in memory. If the same module is imported again later in the program, Python does not re-execute the module's code; instead, it returns the same existing module object.  \n",
    "* This behavior means that any global variables, functions, or classes defined within a module are shared across all parts of the application that import that module. There is only one instance of the module object in memory, ensuring that any changes to its state are reflected globally."
   ]
  }
 ],
 "metadata": {
  "kernelspec": {
   "display_name": "lx",
   "language": "python",
   "name": "python3"
  },
  "language_info": {
   "codemirror_mode": {
    "name": "ipython",
    "version": 3
   },
   "file_extension": ".py",
   "mimetype": "text/x-python",
   "name": "python",
   "nbconvert_exporter": "python",
   "pygments_lexer": "ipython3",
   "version": "3.13.5"
  }
 },
 "nbformat": 4,
 "nbformat_minor": 5
}
