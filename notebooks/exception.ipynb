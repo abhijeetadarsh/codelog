{
 "cells": [
  {
   "cell_type": "raw",
   "id": "ca11f3c4",
   "metadata": {
    "vscode": {
     "languageId": "raw"
    }
   },
   "source": [
    "Title: Exception\n",
    "Date: 2025-09-09 18:22\n",
    "Category: Core Python 3\n",
    "Tags: python, exception, error, handling\n",
    "Slug: exception\n",
    "Author: Abhijeet Adarsh\n",
    "Summary: Exception\n",
    "Last Modified: 2025-09-12 14:44"
   ]
  },
  {
   "cell_type": "markdown",
   "id": "b8bb07b0",
   "metadata": {},
   "source": [
    "In Python, the !r within an f-string is a conversion flag that specifies how an expression inside the f-string should be formatted. Specifically, !r calls the repr() function on the object, which returns a \"developer-friendly\" or \"official\" string representation of that object.\n",
    "\n",
    "How it works:\n",
    "When you use !r after an expression within the curly braces {} of an f-string, Python will evaluate the expression and then apply repr() to its result before embedding it into the final string."
   ]
  },
  {
   "cell_type": "code",
   "execution_count": 3,
   "id": "ea807dba",
   "metadata": {},
   "outputs": [
    {
     "name": "stdout",
     "output_type": "stream",
     "text": [
      "String with !r: 'hello\\nworld'\n",
      "List with !r: [1, 2, 3]\n",
      "String without !r: hello\n",
      "world\n",
      "List without !r: [1, 2, 3]\n"
     ]
    }
   ],
   "source": [
    "my_string = \"hello\\nworld\"\n",
    "my_list = [1, 2, 3]\n",
    "\n",
    "# Using !r to get the raw representation of the string and list\n",
    "print(f\"String with !r: {my_string!r}\")\n",
    "print(f\"List with !r: {my_list!r}\")\n",
    "\n",
    "# For comparison, without !r (default is !s, which uses str())\n",
    "print(f\"String without !r: {my_string}\")\n",
    "print(f\"List without !r: {my_list}\")"
   ]
  },
  {
   "cell_type": "markdown",
   "id": "a013565c",
   "metadata": {},
   "source": [
    "Exception handling in Python is a mechanism for gracefully dealing with runtime errors, known as exceptions, that disrupt the normal flow of a program. It prevents program crashes and allows for more robust and reliable code.\n",
    "\n",
    "The core components of exception handling in Python are: \n",
    "\n",
    "try block:\n",
    "This block contains the code that might potentially raise an exception.\n",
    "\n",
    "except block(s):\n",
    "These blocks follow the try block and specify how to handle specific types of exceptions. If an exception occurs in the try block, Python searches for a matching except block to handle it. You can have multiple except blocks to handle different exception types.\n",
    "\n",
    "else block (optional):\n",
    "This block is executed only if no exceptions are raised within the try block.\n",
    "\n",
    "finally block (optional):\n",
    "This block is always executed, regardless of whether an exception occurred or not. It is commonly used for cleanup operations, such as closing files or releasing resources.\n",
    "\n",
    "raise statement:\n",
    "This statement is used to explicitly raise an exception. This is useful for signaling errors or invalid conditions within your own code."
   ]
  },
  {
   "cell_type": "code",
   "execution_count": 4,
   "id": "7ad6a304",
   "metadata": {},
   "outputs": [
    {
     "name": "stdout",
     "output_type": "stream",
     "text": [
      "Result: 1.1237484111602151e-06\n",
      "Division successful.\n",
      "This message always prints.\n"
     ]
    }
   ],
   "source": [
    "try:\n",
    "    numerator = 10\n",
    "    denominator = int(input(\"Enter a denominator: \"))\n",
    "    result = numerator / denominator\n",
    "    print(f\"Result: {result}\")\n",
    "except ZeroDivisionError:\n",
    "    print(\"Error: Cannot divide by zero.\")\n",
    "except ValueError:\n",
    "    print(\"Error: Invalid input. Please enter a number.\")\n",
    "else:\n",
    "    print(\"Division successful.\")\n",
    "finally:\n",
    "    print(\"This message always prints.\")"
   ]
  },
  {
   "cell_type": "code",
   "execution_count": null,
   "id": "01086c1c",
   "metadata": {},
   "outputs": [],
   "source": []
  }
 ],
 "metadata": {
  "kernelspec": {
   "display_name": "lx",
   "language": "python",
   "name": "python3"
  },
  "language_info": {
   "codemirror_mode": {
    "name": "ipython",
    "version": 3
   },
   "file_extension": ".py",
   "mimetype": "text/x-python",
   "name": "python",
   "nbconvert_exporter": "python",
   "pygments_lexer": "ipython3",
   "version": "3.13.5"
  }
 },
 "nbformat": 4,
 "nbformat_minor": 5
}
