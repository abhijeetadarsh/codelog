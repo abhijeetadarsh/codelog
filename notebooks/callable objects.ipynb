{
 "cells": [
  {
   "cell_type": "raw",
   "id": "09f8deaf",
   "metadata": {
    "vscode": {
     "languageId": "raw"
    }
   },
   "source": [
    "Title: Callable Objects\n",
    "Date: 2025-09-11 16:36\n",
    "Category: Beyond the basics\n",
    "Tags: python, functions, args, kwargs, callable \n",
    "Slug: callable-objects\n",
    "Author: Abhijeet Adarsh\n",
    "Summary: Callable Objects\n",
    "Last Modified: 2025-09-11 18:39"
   ]
  },
  {
   "cell_type": "markdown",
   "id": "c426feb0",
   "metadata": {
    "vscode": {
     "languageId": "raw"
    }
   },
   "source": [
    "# Callable Objects\n",
    "\n",
    "In Python, callable objects are entities that can be called as functions. This includes not only functions but also classes and instances of classes that implement the `__call__` method. This feature allows for more flexible and reusable code."
   ]
  },
  {
   "cell_type": "code",
   "execution_count": 1,
   "id": "0433ac6c",
   "metadata": {},
   "outputs": [],
   "source": [
    "import socket\n",
    "\n",
    "class Resolver:\n",
    "\n",
    "    def __init__(self):\n",
    "        self.cache = {}\n",
    "\n",
    "    def __call__(self, hostname):\n",
    "        if hostname in self.cache:\n",
    "            return self.cache[hostname]\n",
    "        try:\n",
    "            ip_address = socket.gethostbyname(hostname)\n",
    "            self.cache[hostname] = ip_address\n",
    "            return ip_address\n",
    "        except socket.gaierror:\n",
    "            return None"
   ]
  },
  {
   "cell_type": "markdown",
   "id": "dfba5ead",
   "metadata": {},
   "source": [
    "### Example usage:"
   ]
  },
  {
   "cell_type": "code",
   "execution_count": null,
   "id": "966de8f9",
   "metadata": {},
   "outputs": [
    {
     "name": "stdout",
     "output_type": "stream",
     "text": [
      "23.192.228.80\n",
      "104.26.15.72\n"
     ]
    }
   ],
   "source": [
    "# Classes are also callable objects because they implement the __call__ method.\n",
    "resolver = Resolver()\n",
    "result = resolver(\"example.com\") # Implicit call to __call__\n",
    "result2 = resolver.__call__(\"linux.org\") # Explicit call to __call__\n",
    "print(result, result2, sep=\"\\n\")"
   ]
  },
  {
   "cell_type": "code",
   "execution_count": 11,
   "id": "55e1cba6",
   "metadata": {},
   "outputs": [
    {
     "name": "stdout",
     "output_type": "stream",
     "text": [
      "{'example.com': '23.192.228.80', 'linux.org': '104.26.15.72'}\n"
     ]
    },
    {
     "data": {
      "text/plain": [
       "True"
      ]
     },
     "execution_count": 11,
     "metadata": {},
     "output_type": "execute_result"
    }
   ],
   "source": [
    "print(resolver.cache)\n",
    "callable(resolver)"
   ]
  },
  {
   "cell_type": "markdown",
   "id": "ca3d7d29",
   "metadata": {},
   "source": [
    "This class object is itself callable, and of course that is we've been doing all along whenever we've called a constructor to create new instances. So we see in python, constructor calls are made by calling the calls object.  \n",
    "\n",
    "As we have seen, any arguments passed when the class object is called in this way will be forwarded to the \\_\\_init\\_\\_ method of the class. If one has been defined.  \n",
    "\n",
    "In essence, the class object callable is a factory function when invoked, produces new instance of that class. Knowing that classes are simply objects and that constructor calls are simply using class objects as callables, we can build interesting functions which exploit this fact."
   ]
  },
  {
   "cell_type": "code",
   "execution_count": 9,
   "id": "a1d822cf",
   "metadata": {},
   "outputs": [
    {
     "name": "stdout",
     "output_type": "stream",
     "text": [
      "['H', 'e', 'l', 'l', 'o', ' ', 'W', 'o', 'r', 'l', 'd']\n"
     ]
    }
   ],
   "source": [
    "def sequence_class(immutable):\n",
    "    if immutable:\n",
    "        cls = tuple\n",
    "    else:\n",
    "        cls = list\n",
    "    return cls\n",
    "\n",
    "seq = sequence_class(immutable=False)\n",
    "t = seq('Hello World')\n",
    "\n",
    "print(t)"
   ]
  },
  {
   "cell_type": "markdown",
   "id": "181e98dc",
   "metadata": {},
   "source": [
    "## Conditional Expression\n",
    "\n",
    "```python\n",
    "result = true_value if condition else false_value\n",
    "\n",
    "\n",
    "def sequence_calls(immutable):\n",
    "    return tuple if immutable else list\n",
    "```"
   ]
  },
  {
   "cell_type": "markdown",
   "id": "5bef4c23",
   "metadata": {},
   "source": [
    "## Lambda\n",
    "In Python, a lambda function is a small, anonymous function defined with the lambda keyword.  \n",
    "Unlike regular functions defined with def, lambda functions are limited to a single expression and do not require a name.\n",
    "\n",
    "```python\n",
    "lambda arguments: expression\n",
    "```"
   ]
  },
  {
   "cell_type": "code",
   "execution_count": null,
   "id": "b018109e",
   "metadata": {},
   "outputs": [
    {
     "name": "stdout",
     "output_type": "stream",
     "text": [
      "8\n"
     ]
    }
   ],
   "source": [
    "add = lambda x, y: x + y\n",
    "print(add(5, 3))"
   ]
  },
  {
   "cell_type": "markdown",
   "id": "8fe07c12",
   "metadata": {},
   "source": [
    "| Regular function                                        | Lambda function                                      |\n",
    "|-------------------------------------------------------|-----------------------------------------------------|\n",
    "| Defines a function and binds it to a name             | Evaluates to a function                              |\n",
    "| Must have a name                                      | Anonymous                                           |\n",
    "| Arguments delimited by parentheses, separated by commas| Argument list terminated by colon, separated by commas|\n",
    "| Zero or more arguments supported - zero arguments = empty parentheses | Zero or more arguments supported - zero arguments = `lambda:` |\n",
    "| Body is an indented block of statements               | Body is a single expression                          |\n",
    "| A return statement is required to return anything other than None | The return value is given by the body expression. No return statement is permitted. |\n",
    "| Regular functions can have docstrings                  | Lambdas cannot have docstrings                       |\n",
    "| Easy to access for testing                             | Awkward or impossible to test                       |"
   ]
  },
  {
   "cell_type": "markdown",
   "id": "c193e33f",
   "metadata": {},
   "source": [
    "## Arbitary Positional and Keyword Arguments\n",
    "*args and *kwargs"
   ]
  },
  {
   "cell_type": "code",
   "execution_count": null,
   "id": "1d2c8f70",
   "metadata": {},
   "outputs": [
    {
     "name": "stdout",
     "output_type": "stream",
     "text": [
      "1\n",
      "2\n",
      "6\n"
     ]
    }
   ],
   "source": [
    "def hypervolume(len_of_1st_dimension, *args):\n",
    "    res = len_of_1st_dimension\n",
    "    # type of args is tuple\n",
    "    for arg in args:\n",
    "        res *= arg\n",
    "    print(res) \n",
    "\n",
    "# hypervolume() # TypeError: missing 1 required positional argument\n",
    "hypervolume(1)\n",
    "hypervolume(1, 2)\n",
    "hypervolume(1, 2, 3)"
   ]
  },
  {
   "cell_type": "code",
   "execution_count": 20,
   "id": "c58016b1",
   "metadata": {},
   "outputs": [
    {
     "data": {
      "text/plain": [
       "'<img src=\"monet.jpg\" alt=\"sunrise by the sea\" width=\"600\">'"
      ]
     },
     "execution_count": 20,
     "metadata": {},
     "output_type": "execute_result"
    }
   ],
   "source": [
    "def tag(name, **kwargs):\n",
    "    # type of kwargs is dict\n",
    "    attrs = ''.join(f' {key}=\"{value}\"' for key, value in kwargs.items())\n",
    "    return f'<{name}{attrs}>'\n",
    "\n",
    "tag('img', src='monet.jpg', alt='sunrise by the sea', width=600)"
   ]
  },
  {
   "cell_type": "markdown",
   "id": "fa83965a",
   "metadata": {},
   "source": [
    "* In a function definition, the *args parameter must always appear before the **kwargs parameter.\n",
    "* Parameters defined before *args are positional-or-keyword arguments. As long as they follow the rule that positional arguments cannot come after keyword arguments in the call.\n",
    "* Note: This also includes positional-only arguments if you use the / syntax, which must appear before *args as well.\n",
    "* Any parameter defined after *args (but before **kwargs) is a keyword-only argument. Attempting to pass it by position is impossible, as *args will have already collected all positional arguments.\n",
    "* The **kwargs parameter, if present, must be the very last parameter in the function definition. It collects any keyword arguments that do not match the other defined parameter names."
   ]
  },
  {
   "cell_type": "code",
   "execution_count": 23,
   "id": "9614f604",
   "metadata": {},
   "outputs": [
    {
     "name": "stdout",
     "output_type": "stream",
     "text": [
      "1 2 3 4 (5, 6) 7 8 {'extra1': 9, 'extra2': 10}\n",
      "1 2 3 4 () 7 8 {}\n"
     ]
    }
   ],
   "source": [
    "def func(pos1, pos2, /,           # positional‑only\n",
    "         a, b,                    # positional‑or‑keyword\n",
    "         *args,                   # extra positional arguments\n",
    "         kw1, kw2,                # keyword‑only (must be passed by name)\n",
    "         **kwargs):               # extra keyword arguments\n",
    "    print(pos1, pos2, a, b, args, kw1, kw2, kwargs)\n",
    "\n",
    "func(1, 2, 3, 4, 5, 6, kw1=7, kw2=8, extra1=9, extra2=10)\n",
    "\n",
    "# a and b are passed by KEYWORD\n",
    "func(1, 2, a=3, b=4, kw1=7, kw2=8)"
   ]
  },
  {
   "cell_type": "markdown",
   "id": "2196e165",
   "metadata": {},
   "source": [
    "You should take particular care when combining these language features with default arguments, which have their own ordering rules specifying that mandatory arguments must be specified before optional arguments at the call site."
   ]
  },
  {
   "cell_type": "code",
   "execution_count": 26,
   "id": "5a8b50e1",
   "metadata": {},
   "outputs": [
    {
     "name": "stdout",
     "output_type": "stream",
     "text": [
      "3 4 (5, 6)\n",
      "3 4 (5, 6)\n",
      "7 8 {'extra1': 9, 'extra2': 10}\n"
     ]
    }
   ],
   "source": [
    "def print_args(arg1, arg2, *args):\n",
    "    print(arg1, arg2, args)\n",
    "\n",
    "t = (3, 4, 5, 6)\n",
    "print_args(*t) # Unpacking the tuple into positional arguments\n",
    "\n",
    "l = [3, 4, 5, 6]\n",
    "print_args(*l) # Unpacking the list into positional arguments\n",
    "\n",
    "def print_kwargs(kw1, kw2, **kwargs):\n",
    "    print(kw1, kw2, kwargs)\n",
    "\n",
    "d = {'kw1': 7, 'kw2': 8, 'extra1': 9, 'extra2': 10}\n",
    "print_kwargs(**d) # Unpacking the dictionary into keyword arguments"
   ]
  },
  {
   "cell_type": "markdown",
   "id": "73d2db6d",
   "metadata": {},
   "source": [
    "### Transposing a Matrix with zip(*…)"
   ]
  },
  {
   "cell_type": "code",
   "execution_count": 28,
   "id": "1a8e4754",
   "metadata": {},
   "outputs": [
    {
     "name": "stdout",
     "output_type": "stream",
     "text": [
      "[[1, 2, 3], [4, 5, 6], [7, 8, 9]]\n",
      "[(1, 4, 7), (2, 5, 8), (3, 6, 9)]\n"
     ]
    }
   ],
   "source": [
    "matrix = [\n",
    "    [1, 2, 3],\n",
    "    [4, 5, 6],\n",
    "    [7, 8, 9]\n",
    "]\n",
    "\n",
    "transposed = list(zip(*matrix))\n",
    "\n",
    "print(matrix)\n",
    "print(transposed) \n"
   ]
  },
  {
   "cell_type": "code",
   "execution_count": null,
   "id": "d7fabbf6",
   "metadata": {},
   "outputs": [],
   "source": []
  }
 ],
 "metadata": {
  "kernelspec": {
   "display_name": "lx",
   "language": "python",
   "name": "python3"
  },
  "language_info": {
   "codemirror_mode": {
    "name": "ipython",
    "version": 3
   },
   "file_extension": ".py",
   "mimetype": "text/x-python",
   "name": "python",
   "nbconvert_exporter": "python",
   "pygments_lexer": "ipython3",
   "version": "3.13.5"
  }
 },
 "nbformat": 4,
 "nbformat_minor": 5
}
