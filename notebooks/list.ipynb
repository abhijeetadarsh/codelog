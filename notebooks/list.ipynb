{
 "cells": [
  {
   "cell_type": "raw",
   "id": "68b9ae84",
   "metadata": {
    "vscode": {
     "languageId": "raw"
    }
   },
   "source": [
    "Title: List\n",
    "Date: 2025-09-09 18:24\n",
    "Category: Core Python 3\n",
    "Tags: python, data structures\n",
    "Slug: list\n",
    "Author: Abhijeet Adarsh\n",
    "Summary: List\n",
    "Last Modified: 2025-09-12 14:47"
   ]
  },
  {
   "cell_type": "markdown",
   "id": "de5e202e",
   "metadata": {},
   "source": [
    "Use the del keyword to remove elements from a list\\\n",
    "Sort and reverse lists in-place with list. sort() and list. reverse()\\\n",
    "sorted() and reversed() sort and reverse any iterable\\\n",
    "List copies are shallow, only copying the references"
   ]
  }
 ],
 "metadata": {
  "language_info": {
   "name": "python"
  }
 },
 "nbformat": 4,
 "nbformat_minor": 5
}
