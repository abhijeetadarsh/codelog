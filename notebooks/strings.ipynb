{
 "cells": [
  {
   "cell_type": "raw",
   "id": "eeb1b208",
   "metadata": {},
   "source": [
    "Title: Strings\n",
    "Date: 2025-09-09 18:25\n",
    "Category: Add Category here\n",
    "Tags: tag1,tag2\n",
    "Slug: strings\n",
    "Author: Abhijeet Adarsh\n",
    "Summary: Strings\n",
    "Last Modified: 2025-09-09 12:56:13"
   ]
  },
  {
   "cell_type": "markdown",
   "id": "281d6e16-601d-4921-b96a-48587cd17d03",
   "metadata": {},
   "source": [
    "## Strings \n",
    "Strings in python are immutable\n",
    "\n",
    "There is no character type in python"
   ]
  },
  {
   "cell_type": "code",
   "execution_count": 1,
   "id": "7262274c-6472-44e3-b7e2-236b519306c4",
   "metadata": {
    "editable": true,
    "slideshow": {
     "slide_type": ""
    },
    "tags": []
   },
   "outputs": [
    {
     "name": "stdout",
     "output_type": "stream",
     "text": [
      "s1 : This is a string\n",
      "s2 : This is also a string\n",
      "s3 : This is a \n",
      "multi line \n",
      "string\n"
     ]
    }
   ],
   "source": [
    "s1 = 'This is a string'\n",
    "s2 = \"This is also a string\"\n",
    "s3 = '''This is a \n",
    "multi line \n",
    "string'''\n",
    "\n",
    "print(f's1 : {s1}')\n",
    "print(f's2 : {s2}')\n",
    "print(f's3 : {s3}')"
   ]
  },
  {
   "cell_type": "markdown",
   "id": "7d3da1be",
   "metadata": {},
   "source": [
    "When an 'r' or 'R' prefix is present, a character following a backslash is included in the string without change, and all backslashes are left in the string"
   ]
  },
  {
   "cell_type": "code",
   "execution_count": 2,
   "id": "af289d99",
   "metadata": {},
   "outputs": [
    {
     "name": "stdout",
     "output_type": "stream",
     "text": [
      "s4 : This is a raw string look \\'\n"
     ]
    }
   ],
   "source": [
    "s4 = r'This is a raw string look \\''\n",
    "\n",
    "print(f's4 : {s4}')"
   ]
  },
  {
   "cell_type": "markdown",
   "id": "3afa4e23",
   "metadata": {},
   "source": [
    "f-string"
   ]
  },
  {
   "cell_type": "code",
   "execution_count": 11,
   "id": "fca19d29",
   "metadata": {},
   "outputs": [
    {
     "name": "stdout",
     "output_type": "stream",
     "text": [
      "123\n",
      "This is a formatted string \n",
      "This is a string\n",
      "This is also a string\n",
      "This is a \n",
      "multi line \n",
      "string\n",
      "This is a raw string look \\'\n"
     ]
    }
   ],
   "source": [
    "print('{}{}{var}'.format(1, 2, var=3)) # is older was when f string was not introduced\n",
    "\n",
    "s5 = f'This is a formatted string \\n{s1}\\n{s2}\\n{s3}\\n{s4}'\n",
    "print(s5)"
   ]
  },
  {
   "cell_type": "markdown",
   "id": "aa17a849",
   "metadata": {},
   "source": [
    "In Python 3, all standard strings are Unicode strings. \n",
    "\n",
    "They are used to represent human-readable text and can contain characters from virtually any language."
   ]
  },
  {
   "cell_type": "code",
   "execution_count": 4,
   "id": "aff9b6a2",
   "metadata": {},
   "outputs": [
    {
     "name": "stdout",
     "output_type": "stream",
     "text": [
      "57 57\n"
     ]
    }
   ],
   "source": [
    "# u is used to specify to use unicode\n",
    "s6 = u'This is a string'\n",
    "\n",
    "import sys\n",
    "print(sys.getsizeof(s1), sys.getsizeof(s6))"
   ]
  },
  {
   "cell_type": "markdown",
   "id": "447731be",
   "metadata": {},
   "source": [
    "A bytes object is a sequence of integers (each between 0 and 255). \n",
    "\n",
    "They are used for handling binary data, such as image files, network packets, or any raw byte stream. They are not directly human-readable without being decoded."
   ]
  },
  {
   "cell_type": "code",
   "execution_count": 6,
   "id": "a9c2b5fa",
   "metadata": {},
   "outputs": [
    {
     "name": "stdout",
     "output_type": "stream",
     "text": [
      "b'This a byte literal'\n",
      "b'\\xe0\\xa4\\x97\\xe0\\xa4\\xa7\\xe0\\xa4\\xbe'\n",
      "गधा\n"
     ]
    }
   ],
   "source": [
    "b1 = b'This a byte literal'\n",
    "print(b1)\n",
    "\n",
    "s7 = 'गधा'\n",
    "b2 = s7.encode('utf8')\n",
    "print(b2)\n",
    "print(b2.decode('utf8'))"
   ]
  },
  {
   "cell_type": "markdown",
   "id": "43b9a128",
   "metadata": {},
   "source": [
    "Use str.join() for efficient string concatenation.\\\n",
    "Rather than +=, +"
   ]
  }
 ],
 "metadata": {
  "kernelspec": {
   "display_name": "lx",
   "language": "python",
   "name": "python3"
  },
  "language_info": {
   "codemirror_mode": {
    "name": "ipython",
    "version": 3
   },
   "file_extension": ".py",
   "mimetype": "text/x-python",
   "name": "python",
   "nbconvert_exporter": "python",
   "pygments_lexer": "ipython3",
   "version": "3.13.5"
  }
 },
 "nbformat": 4,
 "nbformat_minor": 5
}
